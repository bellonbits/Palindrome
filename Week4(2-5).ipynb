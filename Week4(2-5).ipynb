{
 "cells": [
  {
   "cell_type": "code",
   "execution_count": 6,
   "id": "49511b32",
   "metadata": {},
   "outputs": [
    {
     "name": "stdout",
     "output_type": "stream",
     "text": [
      "Explanation of list comprehension in Python with examples:\n",
      "__________________________________________________________\n",
      "List comprehension is a concise way to create lists in Python. It allows you to create a new list by applying a transformation or condition to each element of an existing list or iterable.\n",
      "Here are three examples of list comprehension:\n",
      "a)Creating a list of squares of numbers from 1 to 10:\n",
      "[1, 4, 9, 16, 25, 36, 49, 64, 81, 100]\n",
      "b) Creating a list of even numbers from a given list:\n",
      "[2, 4, 6, 8, 10]\n",
      "c) Creating a list of uppercase letters from a string:\n",
      "['I', 'A', 'M', 'P', 'E', 'T', 'E', 'R', 'G', 'A', 'T', 'I', 'T', 'U', 'M', 'W', 'A', 'N', 'G', 'A', 'A', 'N', 'D', 'I', 'A', 'M', 'A', 'D', 'A', 'T', 'A', 'A', 'N', 'A', 'L', 'Y', 'S', 'T']\n"
     ]
    }
   ],
   "source": [
    "\n",
    "print(\"Explanation of list comprehension in Python with examples:\")\n",
    "print(\"__________________________________________________________\")\n",
    "print(\"List comprehension is a concise way to create lists in Python. It allows you to create a new list by applying a transformation or condition to each element of an existing list or iterable.\")\n",
    "print(\"Here are three examples of list comprehension:\")\n",
    "\n",
    "print(\"a)Creating a list of squares of numbers from 1 to 10:\")\n",
    "squares = [x**2 for x in range(1, 11)]\n",
    "print(squares)  # Output: [1, 4, 9, 16, 25, 36, 49, 64, 81, 100]\n",
    "\n",
    "print(\"b) Creating a list of even numbers from a given list:\")\n",
    "numbers = [1, 2, 3, 4, 5, 6, 7, 8, 9, 10]\n",
    "even_numbers = [x for x in numbers if x % 2 == 0]\n",
    "print(even_numbers)  # Output: [2, 4, 6, 8, 10]\n",
    "\n",
    "print(\"c) Creating a list of uppercase letters from a string:\")\n",
    "sentence = \"i am peter gatitu mwanga and i am a data analyst\"\n",
    "uppercase_letters = [char.upper() for char in sentence if char.isalpha()]\n",
    "print(uppercase_letters)  # Output: ['T', 'H', 'E', 'Q', 'U', 'I', 'C', 'K', 'B', 'R', 'O', 'W', 'N', 'F', 'O', 'X', 'J', 'U', 'M', 'P', 'S', 'O', 'V', 'E', 'R', 'T', 'H', 'E', 'L', 'A', 'Z', 'Y', 'D', 'O', 'G']\n"
   ]
  },
  {
   "cell_type": "code",
   "execution_count": 10,
   "id": "0f217476",
   "metadata": {},
   "outputs": [
    {
     "name": "stdout",
     "output_type": "stream",
     "text": [
      "Explanation of compound data types in Python\n",
      "____________________________________________\n",
      "In Python, compound data types are data structures that can hold multiple values of the same or different data types. The three main compound data types in Python are:\n",
      "a) List:\n",
      "[1, 2.5, 'hello', True]\n",
      "b) Tuple:\n",
      "(1, 2.5, 'hello', True)\n",
      "c) Dictionary:\n",
      "{'name': 'John', 'age': 30, 'city': 'New York'}\n",
      "Lists and tuples are ordered collections of elements, while dictionaries are unordered collections of key-value pairs.\n"
     ]
    }
   ],
   "source": [
    "print(\"Explanation of compound data types in Python\")\n",
    "print(\"____________________________________________\")\n",
    "print(\"In Python, compound data types are data structures that can hold multiple values of the same or different data types. The three main compound data types in Python are:\")\n",
    "\n",
    "print(\"a) List:\")\n",
    "\n",
    "my_list = [1, 2.5, \"hello\", True]\n",
    "print(my_list)\n",
    "\n",
    "print(\"b) Tuple:\")\n",
    "\n",
    "my_tuple = (1, 2.5, \"hello\", True)\n",
    "print(my_tuple)\n",
    "print(\"c) Dictionary:\")\n",
    "\n",
    "my_dict = {\"name\": \"John\", \"age\": 30, \"city\": \"New York\"}\n",
    "print(my_dict)\n",
    "print(\"Lists and tuples are ordered collections of elements, while dictionaries are unordered collections of key-value pairs.\")"
   ]
  },
  {
   "cell_type": "code",
   "execution_count": 12,
   "id": "16793aef",
   "metadata": {},
   "outputs": [
    {
     "name": "stdout",
     "output_type": "stream",
     "text": [
      "Function to generate a list of bigrams from a given string:\n",
      "['Th', 'he', 'e ', ' q', 'qu', 'ui', 'ic', 'ck', 'k ', ' c', 'ca', 'ar', 'r ', ' j', 'ju', 'um', 'mp', 'pe', 'ed', 'd ', ' i', 'in', 'nt', 'to', 'o ', ' t', 'th', 'he', 'e ', ' c', 'cl', 'li', 'if', 'ff', 'f.']\n"
     ]
    }
   ],
   "source": [
    "print(\"Function to generate a list of bigrams from a given string:\")\n",
    "\n",
    "def get_bigrams(text):\n",
    "    \"\"\"\n",
    "    Generates a list of bigrams from a given string.\n",
    "    \n",
    "    Args:\n",
    "        text (str): The input string.\n",
    "    \n",
    "    Returns:\n",
    "        list: A list of bigrams (pairs of consecutive characters).\n",
    "    \"\"\"\n",
    "    bigrams = []\n",
    "    for i in range(len(text) - 1):\n",
    "        bigram = text[i:i+2]\n",
    "        bigrams.append(bigram)\n",
    "    return bigrams\n",
    "\n",
    "text = \"The quick car jumped into the cliff.\"\n",
    "bigrams = get_bigrams(text)\n",
    "print(bigrams)"
   ]
  },
  {
   "cell_type": "code",
   "execution_count": 13,
   "id": "54191837",
   "metadata": {},
   "outputs": [
    {
     "name": "stdout",
     "output_type": "stream",
     "text": [
      "Function to find the key with the value closest to the beginning of the list in a dictionary:\n",
      "B\n",
      "A\n",
      "None\n"
     ]
    }
   ],
   "source": [
    "print(\"Function to find the key with the value closest to the beginning of the list in a dictionary:\")\n",
    "\n",
    "def closest_key(d, value):\n",
    "    \"\"\"\n",
    "    Finds the key in the dictionary with the value closest to the beginning of the list.\n",
    "    \n",
    "    Args:\n",
    "        d (dict): The input dictionary.\n",
    "        value (str): The value to search for.\n",
    "    \n",
    "    Returns:\n",
    "        str: The key with the value closest to the beginning of the list.\n",
    "    \"\"\"\n",
    "    closest_key = None\n",
    "    min_index = float('inf')\n",
    "    \n",
    "    for key, values in d.items():\n",
    "        try:\n",
    "            index = values.index(value)\n",
    "            if index < min_index:\n",
    "                min_index = index\n",
    "                closest_key = key\n",
    "        except ValueError:\n",
    "            pass\n",
    "    \n",
    "    return closest_key\n",
    "\n",
    "letter_dict = {\n",
    "    \"A\": [\"X\", \"Y\", \"Z\"],\n",
    "    \"B\": [\"P\", \"Q\", \"R\"],\n",
    "    \"C\": [\"M\", \"N\", \"O\"]\n",
    "}\n",
    "\n",
    "print(closest_key(letter_dict, \"Q\"))  # Output: \"B\"\n",
    "print(closest_key(letter_dict, \"Z\"))  # Output: \"A\"\n",
    "print(closest_key(letter_dict, \"S\"))  # Output: None (since \"S\" is not in the dictionary)\n"
   ]
  },
  {
   "cell_type": "code",
   "execution_count": null,
   "id": "80191397",
   "metadata": {},
   "outputs": [],
   "source": []
  }
 ],
 "metadata": {
  "kernelspec": {
   "display_name": "Python 3 (ipykernel)",
   "language": "python",
   "name": "python3"
  },
  "language_info": {
   "codemirror_mode": {
    "name": "ipython",
    "version": 3
   },
   "file_extension": ".py",
   "mimetype": "text/x-python",
   "name": "python",
   "nbconvert_exporter": "python",
   "pygments_lexer": "ipython3",
   "version": "3.7.6"
  }
 },
 "nbformat": 4,
 "nbformat_minor": 5
}
