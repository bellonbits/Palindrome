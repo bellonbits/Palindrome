{
 "cells": [
  {
   "cell_type": "code",
   "execution_count": 1,
   "id": "c53c6ad2",
   "metadata": {},
   "outputs": [],
   "source": [
    "def is_palindrome(s):\n",
    "    \"\"\"\n",
    "    Checks if a given string is a palindrome using a stack.\n",
    "    \n",
    "    Args:\n",
    "        s (str): The input string to be checked.\n",
    "    \n",
    "    Returns:\n",
    "        bool: True if the string is a palindrome, False otherwise.\n",
    "    \"\"\"\n",
    "    # Convert the string to lowercase and remove non-alphanumeric characters\n",
    "    s = ''.join(c for c in s.lower() if c.isalnum())\n",
    "    \n",
    "    # Push the characters onto a stack\n",
    "    stack = []\n",
    "    for char in s:\n",
    "        stack.append(char)\n",
    "    \n",
    "    # Pop the characters from the stack and compare them with the original string\n",
    "    for char in s:\n",
    "        if char != stack.pop():\n",
    "            return False\n",
    "    \n",
    "    return True"
   ]
  },
  {
   "cell_type": "code",
   "execution_count": 2,
   "id": "bc64dc20",
   "metadata": {},
   "outputs": [
    {
     "name": "stdout",
     "output_type": "stream",
     "text": [
      "True\n",
      "False\n"
     ]
    }
   ],
   "source": [
    "print(is_palindrome(\"A man, a plan, a canal: Panama\"))  # True\n",
    "print(is_palindrome(\"race a car\"))  # False"
   ]
  },
  {
   "cell_type": "code",
   "execution_count": null,
   "id": "580ae945",
   "metadata": {},
   "outputs": [],
   "source": []
  }
 ],
 "metadata": {
  "kernelspec": {
   "display_name": "Python 3 (ipykernel)",
   "language": "python",
   "name": "python3"
  },
  "language_info": {
   "codemirror_mode": {
    "name": "ipython",
    "version": 3
   },
   "file_extension": ".py",
   "mimetype": "text/x-python",
   "name": "python",
   "nbconvert_exporter": "python",
   "pygments_lexer": "ipython3",
   "version": "3.7.6"
  }
 },
 "nbformat": 4,
 "nbformat_minor": 5
}
